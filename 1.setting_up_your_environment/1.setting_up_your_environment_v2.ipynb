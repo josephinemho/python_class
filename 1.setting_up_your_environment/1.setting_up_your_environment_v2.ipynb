{
 "cells": [
  {
   "cell_type": "markdown",
   "metadata": {},
   "source": [
    "# Set up SSH keys for class\n",
    "Different ways of accessing a server:\n",
    "* Kerberos authentication\n",
    "* RSA token\n",
    "* SSH keys (<u>S</u>ecure <u>SH</u>ell)\n",
    "\n",
    "Why are we using SSH keys?\n",
    "* I'm too lazy to add each of you to the `/etc/security/access.conf` file :P\n",
    " * Let's try adding one person's username to that file and test his/her access - I would have to do this for everyone unless you all happen to belong in the same LDAP group, then I could just add the LDAP group.\n",
    "* SSH uses asymmetric ciphers encryption, whereas symmetric ciphers make it possible for username and passwords can be stolen in the middle\n",
    " * Symmetric encryption = we both have the same template (If I say \"ABC\", that means \"ZYX\") - encryption and decryption occurs together.\n",
    " * Asymmetric encryption = I have a private key (decrypt key) and all my servers have a public key (encrypt key). \n",
    "\n",
    "\n",
    "**1. I've created an SSH keypair for the class to access our class server `python-class`**\n",
    " * Share the private key **securely** via https://onetimesecret.com/\n",
    " * Save the key somewhere safe\n",
    " \n",
    "**2. SSH as user `student` to server `python-class`**\n",
    " * `ssh -i [Desktop]/id_rsa_python_class student@python-class`\n",
    " \n",
    "**3. Create your working directory**\n",
    " * `mkdir <username>`\n",
    " * `cd <username>`\n",
    " * `pwd` (make sure you are in your own directory so you're not working in someone else's space)"
   ]
  },
  {
   "cell_type": "markdown",
   "metadata": {},
   "source": [
    "# Install Docker\n",
    "* `yum install docker -y`\n",
    "* `systemctl start docker`\n",
    "* `docker ps` (there should be no running containers)"
   ]
  },
  {
   "cell_type": "markdown",
   "metadata": {},
   "source": [
    "------\n",
    "# Clone the `origin` repository\n",
    "\n",
    "**1. Clone the git repository for this class.**<br>\n",
    "* Note: Make sure you are in your own directory!\n",
    "* ```git clone https://github.com/josephinemho/python_class.git```\n",
    "\n",
    "**2. From the cloned folder, pull the Docker image.**<br>\n",
    "We will use an image for running a Jupyter server and call our container **<your_username>**.\n",
    "* ```sudo docker pull jupyter/minimal-notebook```\n",
    "* ```sudo docker run -it -d -p <your_port>:8888 -v `pwd`:/home/jovyan/work --name <your_container> jupyter/minimal-notebook```\n",
    "\n",
    "**3. Hold down the ```command/ctrl``` key and click on the link to get to the Jupyter server in your browser OR go to your browser and type `<your_ip>:<your_port>`**<br>\n",
    "To get the token, type:\n",
    "* ```sudo docker exec <your_container> jupyter notebook list```\n",
    "\n",
    "You should be able to access the cloned repository via your web browser and start coding in Python using Jupyter notebooks!"
   ]
  }
 ],
 "metadata": {
  "kernelspec": {
   "display_name": "Python 3",
   "language": "python",
   "name": "python3"
  },
  "language_info": {
   "codemirror_mode": {
    "name": "ipython",
    "version": 3
   },
   "file_extension": ".py",
   "mimetype": "text/x-python",
   "name": "python",
   "nbconvert_exporter": "python",
   "pygments_lexer": "ipython3",
   "version": "3.7.1"
  }
 },
 "nbformat": 4,
 "nbformat_minor": 2
}
