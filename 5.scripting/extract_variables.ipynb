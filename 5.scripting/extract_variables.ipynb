{
 "cells": [
  {
   "cell_type": "markdown",
   "metadata": {},
   "source": [
    "# Extract info from `/etc/hosts`\n",
    "\n",
    "```\n",
    "#!/usr/bin/perl\n",
    "\n",
    "open(my $file,'<',\"/etc/hosts\");\n",
    "\n",
    "while (my $row = <$file>) {\n",
    "chomp $row;\n",
    "next if ($row =~ /^$/);\n",
    "my ($ip,$host,$junk) = split(/\\s+/,$row);\n",
    "print \"hostname = $host\\n\";\n",
    "}\n",
    "\n",
    "close $file;\n",
    "```"
   ]
  },
  {
   "cell_type": "code",
   "execution_count": 6,
   "metadata": {},
   "outputs": [
    {
     "name": "stdout",
     "output_type": "stream",
     "text": [
      "127.0.0.1   localhost localhost.localdomain localhost4 localhost4.localdomain4\n",
      "\n",
      "::1         localhost localhost.localdomain localhost6 localhost6.localdomain6\n",
      "\n",
      "\n",
      "\n",
      "128.149.149.228\tpython-class.jpl.nasa.gov python-class\n"
     ]
    }
   ],
   "source": [
    "with open('etc_hosts.txt') as f:\n",
    "    for line in f.readlines():\n",
    "        print(line)"
   ]
  },
  {
   "cell_type": "code",
   "execution_count": 23,
   "metadata": {},
   "outputs": [
    {
     "name": "stdout",
     "output_type": "stream",
     "text": [
      "['127.0.0.1', 'localhost', 'localhost.localdomain', 'localhost4', 'localhost4.localdomain4']\n",
      "['::1', 'localhost', 'localhost.localdomain', 'localhost6', 'localhost6.localdomain6']\n",
      "[]\n",
      "['128.149.149.228', 'python-class.jpl.nasa.gov', 'python-class']\n"
     ]
    }
   ],
   "source": [
    "with open('etc_hosts.txt') as f:\n",
    "    for line in f.readlines():\n",
    "        line = line.strip().split()\n",
    "        print(line)"
   ]
  },
  {
   "cell_type": "code",
   "execution_count": 34,
   "metadata": {},
   "outputs": [
    {
     "name": "stdout",
     "output_type": "stream",
     "text": [
      "5\n",
      "5\n",
      "0\n",
      "3\n"
     ]
    }
   ],
   "source": [
    "with open('etc_hosts.txt') as f:\n",
    "    for line in f.readlines():\n",
    "        line = line.strip().split()\n",
    "        print(len(line))"
   ]
  },
  {
   "cell_type": "code",
   "execution_count": 35,
   "metadata": {},
   "outputs": [
    {
     "name": "stdout",
     "output_type": "stream",
     "text": [
      "hostname: localhost\n",
      "hostname: localhost\n",
      "hostname: python-class.jpl.nasa.gov\n"
     ]
    }
   ],
   "source": [
    "with open('etc_hosts.txt') as f:\n",
    "    for line in f.readlines():\n",
    "        line = line.strip().split()\n",
    "        if len(line) != 0:\n",
    "            print(\"hostname:\", line[1])"
   ]
  },
  {
   "cell_type": "code",
   "execution_count": 31,
   "metadata": {},
   "outputs": [
    {
     "data": {
      "text/plain": [
       "'python-class.jpl.nasa.gov'"
      ]
     },
     "execution_count": 31,
     "metadata": {},
     "output_type": "execute_result"
    }
   ],
   "source": [
    "hostname"
   ]
  },
  {
   "cell_type": "code",
   "execution_count": 19,
   "metadata": {},
   "outputs": [
    {
     "name": "stdout",
     "output_type": "stream",
     "text": [
      "localhost\n",
      "localhost\n",
      "python-class.jpl.nasa.gov\n"
     ]
    }
   ],
   "source": [
    "with open('etc_hosts.txt') as f:\n",
    "    for line in f.readlines():\n",
    "        try:\n",
    "            line = line.strip().split()\n",
    "            print(line[1])\n",
    "        except:\n",
    "            pass"
   ]
  },
  {
   "cell_type": "markdown",
   "metadata": {},
   "source": [
    "## Part 2"
   ]
  },
  {
   "cell_type": "code",
   "execution_count": 77,
   "metadata": {},
   "outputs": [
    {
     "name": "stdout",
     "output_type": "stream",
     "text": [
      "^The rain in Spain\n",
      "^The Spain blah\n",
      "Blah blah ^\n"
     ]
    }
   ],
   "source": [
    "import re\n",
    "\n",
    "with open('untitled.txt') as f:\n",
    "    for line in f.readlines():\n",
    "        line = line.strip()\n",
    "        try:\n",
    "            x = re.match(\".*\\^.*\", line)\n",
    "            print(x.group())\n",
    "        except:\n",
    "            pass"
   ]
  },
  {
   "cell_type": "code",
   "execution_count": 57,
   "metadata": {},
   "outputs": [],
   "source": [
    "txt = '^The rain in Spain\\nThe rain in Spain'\n",
    "x = re.search(\"\\^The.*Spain$\", txt)"
   ]
  },
  {
   "cell_type": "code",
   "execution_count": 58,
   "metadata": {},
   "outputs": [
    {
     "ename": "AttributeError",
     "evalue": "'NoneType' object has no attribute 'group'",
     "output_type": "error",
     "traceback": [
      "\u001b[0;31m\u001b[0m",
      "\u001b[0;31mAttributeError\u001b[0mTraceback (most recent call last)",
      "\u001b[0;32m<ipython-input-58-c88c55204ce0>\u001b[0m in \u001b[0;36m<module>\u001b[0;34m\u001b[0m\n\u001b[0;32m----> 1\u001b[0;31m \u001b[0mx\u001b[0m\u001b[0;34m.\u001b[0m\u001b[0mgroup\u001b[0m\u001b[0;34m(\u001b[0m\u001b[0;34m)\u001b[0m\u001b[0;34m\u001b[0m\u001b[0;34m\u001b[0m\u001b[0m\n\u001b[0m",
      "\u001b[0;31mAttributeError\u001b[0m: 'NoneType' object has no attribute 'group'"
     ]
    }
   ],
   "source": [
    "x.group()"
   ]
  }
 ],
 "metadata": {
  "kernelspec": {
   "display_name": "Python 3",
   "language": "python",
   "name": "python3"
  },
  "language_info": {
   "codemirror_mode": {
    "name": "ipython",
    "version": 3
   },
   "file_extension": ".py",
   "mimetype": "text/x-python",
   "name": "python",
   "nbconvert_exporter": "python",
   "pygments_lexer": "ipython3",
   "version": "3.7.3"
  }
 },
 "nbformat": 4,
 "nbformat_minor": 2
}
