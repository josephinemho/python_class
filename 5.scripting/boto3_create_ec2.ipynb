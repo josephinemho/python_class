{
 "cells": [
  {
   "cell_type": "code",
   "execution_count": 3,
   "metadata": {
    "scrolled": true
   },
   "outputs": [
    {
     "name": "stdout",
     "output_type": "stream",
     "text": [
      "Collecting boto3\n",
      "\u001b[?25l  Downloading https://files.pythonhosted.org/packages/07/e9/131a9955fd3fac9f5a0a15c17feea90667bbf7c92dc63dd2e6b16d19a3b8/boto3-1.9.212-py2.py3-none-any.whl (128kB)\n",
      "\u001b[K     |████████████████████████████████| 133kB 4.1MB/s eta 0:00:01\n",
      "\u001b[?25hCollecting jmespath<1.0.0,>=0.7.1 (from boto3)\n",
      "  Downloading https://files.pythonhosted.org/packages/83/94/7179c3832a6d45b266ddb2aac329e101367fbdb11f425f13771d27f225bb/jmespath-0.9.4-py2.py3-none-any.whl\n",
      "Collecting s3transfer<0.3.0,>=0.2.0 (from boto3)\n",
      "\u001b[?25l  Downloading https://files.pythonhosted.org/packages/16/8a/1fc3dba0c4923c2a76e1ff0d52b305c44606da63f718d14d3231e21c51b0/s3transfer-0.2.1-py2.py3-none-any.whl (70kB)\n",
      "\u001b[K     |████████████████████████████████| 71kB 5.4MB/s eta 0:00:011\n",
      "\u001b[?25hCollecting botocore<1.13.0,>=1.12.212 (from boto3)\n",
      "\u001b[?25l  Downloading https://files.pythonhosted.org/packages/89/aa/c6055e862b9de8462f3d02b011373a86bdef5586e1eb4247f0bde4889d10/botocore-1.12.212-py2.py3-none-any.whl (5.7MB)\n",
      "\u001b[K     |████████████████████████████████| 5.7MB 5.6MB/s eta 0:00:01     |██████████▌                     | 1.9MB 5.6MB/s eta 0:00:01     |█████████████                   | 2.3MB 5.6MB/s eta 0:00:01     |████████████████                | 2.8MB 5.6MB/s eta 0:00:01\n",
      "\u001b[?25hCollecting docutils<0.16,>=0.10 (from botocore<1.13.0,>=1.12.212->boto3)\n",
      "\u001b[?25l  Downloading https://files.pythonhosted.org/packages/22/cd/a6aa959dca619918ccb55023b4cb151949c64d4d5d55b3f4ffd7eee0c6e8/docutils-0.15.2-py3-none-any.whl (547kB)\n",
      "\u001b[K     |████████████████████████████████| 552kB 13.0MB/s eta 0:00:01     |███████████████████████████▌    | 471kB 13.0MB/s eta 0:00:01\n",
      "\u001b[?25hRequirement already satisfied: urllib3<1.26,>=1.20; python_version >= \"3.4\" in /opt/conda/lib/python3.7/site-packages (from botocore<1.13.0,>=1.12.212->boto3) (1.24.2)\n",
      "Requirement already satisfied: python-dateutil<3.0.0,>=2.1; python_version >= \"2.7\" in /opt/conda/lib/python3.7/site-packages (from botocore<1.13.0,>=1.12.212->boto3) (2.8.0)\n",
      "Requirement already satisfied: six>=1.5 in /opt/conda/lib/python3.7/site-packages (from python-dateutil<3.0.0,>=2.1; python_version >= \"2.7\"->botocore<1.13.0,>=1.12.212->boto3) (1.12.0)\n",
      "Installing collected packages: jmespath, docutils, botocore, s3transfer, boto3\n",
      "Successfully installed boto3-1.9.212 botocore-1.12.212 docutils-0.15.2 jmespath-0.9.4 s3transfer-0.2.1\n"
     ]
    }
   ],
   "source": [
    "!pip install boto3"
   ]
  },
  {
   "cell_type": "code",
   "execution_count": 5,
   "metadata": {
    "scrolled": true
   },
   "outputs": [],
   "source": [
    "import boto3\n",
    "from datetime import datetime"
   ]
  },
  {
   "cell_type": "markdown",
   "metadata": {},
   "source": [
    "# 1. Set variables"
   ]
  },
  {
   "cell_type": "code",
   "execution_count": 2,
   "metadata": {},
   "outputs": [],
   "source": [
    "from keys.aws_keys import govcloud, govcloud_dev"
   ]
  },
  {
   "cell_type": "code",
   "execution_count": 12,
   "metadata": {},
   "outputs": [],
   "source": [
    "todays_date = datetime.today().strftime('%m%d%Y')\n",
    "\n",
    "# Source info\n",
    "# source_access_key_id = govcloud['access_key_id']\n",
    "# source_secret_access_key = govcloud['secret_access_key']\n",
    "# source_region = 'us-gov-west-1'\n",
    "\n",
    "# # Target info\n",
    "target_access_key_id = govcloud_dev['access_key_id']\n",
    "target_secret_access_key = govcloud_dev['secret_access_key']\n",
    "target_region = 'us-gov-west-1'\n",
    "\n",
    "target_account = 'blahblah'\n",
    "target_subnet = 'subnet-blahblah'\n",
    "target_security_group = ['sg-blahblah']\n",
    "\n",
    "# List of instances\n",
    "instance_list = ['blahblah-sa-test1',\n",
    "                 'blahblah-sa-test2'] "
   ]
  },
  {
   "cell_type": "markdown",
   "metadata": {},
   "source": [
    "### 2. Establish source connection"
   ]
  },
  {
   "cell_type": "code",
   "execution_count": 13,
   "metadata": {},
   "outputs": [],
   "source": [
    "session = boto3.Session(\n",
    "    aws_access_key_id = target_access_key_id,\n",
    "    aws_secret_access_key = target_secret_access_key\n",
    ")\n",
    "\n",
    "ec2 = session.resource('ec2', region_name=target_region)"
   ]
  },
  {
   "cell_type": "code",
   "execution_count": 14,
   "metadata": {},
   "outputs": [],
   "source": [
    "def create_ec2(i):\n",
    "    ec2.meta.client.run_instances(ImageId='ami-blahblah',\n",
    "                                  InstanceType='t2.micro',\n",
    "                                  KeyName='blahblah-sa-govcloud-key',\n",
    "                                  MinCount=1,\n",
    "                                  MaxCount=1,\n",
    "                                  SubnetId=target_subnet,\n",
    "                                  SecurityGroupIds=target_security_group,\n",
    "                                  TagSpecifications=[\n",
    "                                      {\n",
    "                                          'ResourceType': 'instance',\n",
    "                                          'Tags': [\n",
    "                                              {\n",
    "                                                  'Key': 'Name',\n",
    "                                                  'Value': name\n",
    "                                              }\n",
    "                                          ]\n",
    "                                      }\n",
    "                                  ])\n",
    "    print('Created EC2:', name, '\\n')"
   ]
  },
  {
   "cell_type": "code",
   "execution_count": 15,
   "metadata": {},
   "outputs": [
    {
     "name": "stdout",
     "output_type": "stream",
     "text": [
      "Created EC2: jplis-sa-test1 \n",
      "\n",
      "Created EC2: jplis-sa-test2 \n",
      "\n"
     ]
    }
   ],
   "source": [
    "for instance in instance_list:\n",
    "    name = instance\n",
    "    create_ec2(name)"
   ]
  },
  {
   "cell_type": "code",
   "execution_count": 23,
   "metadata": {},
   "outputs": [],
   "source": [
    "def describe_ec2(i):\n",
    "    \"\"\"\n",
    "    Get EC2 information and save them to a dictionary. This data is used to create the AMI and track information.\n",
    "    \"\"\"\n",
    "    for tag in i.tags:\n",
    "        if 'Name' in tag['Key']:\n",
    "            name = tag['Value']\n",
    "    ec2info[i.id] = {\n",
    "        'Name': name,\n",
    "        'ID': i.instance_id,\n",
    "        'Type': i.instance_type,\n",
    "        'Private IP': i.private_ip_address\n",
    "    }\n",
    "    print('Working on:\\n', ec2info[i.id])"
   ]
  },
  {
   "cell_type": "code",
   "execution_count": 24,
   "metadata": {},
   "outputs": [
    {
     "ename": "AttributeError",
     "evalue": "'str' object has no attribute 'tags'",
     "output_type": "error",
     "traceback": [
      "\u001b[0;31m\u001b[0m",
      "\u001b[0;31mAttributeError\u001b[0mTraceback (most recent call last)",
      "\u001b[0;32m<ipython-input-24-182ed1fbb8e1>\u001b[0m in \u001b[0;36m<module>\u001b[0;34m\u001b[0m\n\u001b[1;32m      1\u001b[0m \u001b[0;32mfor\u001b[0m \u001b[0minstance\u001b[0m \u001b[0;32min\u001b[0m \u001b[0minstance_list\u001b[0m\u001b[0;34m:\u001b[0m\u001b[0;34m\u001b[0m\u001b[0;34m\u001b[0m\u001b[0m\n\u001b[0;32m----> 2\u001b[0;31m     \u001b[0mdescribe_ec2\u001b[0m\u001b[0;34m(\u001b[0m\u001b[0minstance\u001b[0m\u001b[0;34m)\u001b[0m\u001b[0;34m\u001b[0m\u001b[0;34m\u001b[0m\u001b[0m\n\u001b[0m",
      "\u001b[0;32m<ipython-input-23-56c7478429b6>\u001b[0m in \u001b[0;36mdescribe_ec2\u001b[0;34m(i)\u001b[0m\n\u001b[1;32m      3\u001b[0m     \u001b[0mGet\u001b[0m \u001b[0mEC2\u001b[0m \u001b[0minformation\u001b[0m \u001b[0;32mand\u001b[0m \u001b[0msave\u001b[0m \u001b[0mthem\u001b[0m \u001b[0mto\u001b[0m \u001b[0ma\u001b[0m \u001b[0mdictionary\u001b[0m\u001b[0;34m.\u001b[0m \u001b[0mThis\u001b[0m \u001b[0mdata\u001b[0m \u001b[0;32mis\u001b[0m \u001b[0mused\u001b[0m \u001b[0mto\u001b[0m \u001b[0mcreate\u001b[0m \u001b[0mthe\u001b[0m \u001b[0mAMI\u001b[0m \u001b[0;32mand\u001b[0m \u001b[0mtrack\u001b[0m \u001b[0minformation\u001b[0m\u001b[0;34m.\u001b[0m\u001b[0;34m\u001b[0m\u001b[0;34m\u001b[0m\u001b[0m\n\u001b[1;32m      4\u001b[0m     \"\"\"\n\u001b[0;32m----> 5\u001b[0;31m     \u001b[0;32mfor\u001b[0m \u001b[0mtag\u001b[0m \u001b[0;32min\u001b[0m \u001b[0mi\u001b[0m\u001b[0;34m.\u001b[0m\u001b[0mtags\u001b[0m\u001b[0;34m:\u001b[0m\u001b[0;34m\u001b[0m\u001b[0;34m\u001b[0m\u001b[0m\n\u001b[0m\u001b[1;32m      6\u001b[0m         \u001b[0;32mif\u001b[0m \u001b[0;34m'Name'\u001b[0m \u001b[0;32min\u001b[0m \u001b[0mtag\u001b[0m\u001b[0;34m[\u001b[0m\u001b[0;34m'Key'\u001b[0m\u001b[0;34m]\u001b[0m\u001b[0;34m:\u001b[0m\u001b[0;34m\u001b[0m\u001b[0;34m\u001b[0m\u001b[0m\n\u001b[1;32m      7\u001b[0m             \u001b[0mname\u001b[0m \u001b[0;34m=\u001b[0m \u001b[0mtag\u001b[0m\u001b[0;34m[\u001b[0m\u001b[0;34m'Value'\u001b[0m\u001b[0;34m]\u001b[0m\u001b[0;34m\u001b[0m\u001b[0;34m\u001b[0m\u001b[0m\n",
      "\u001b[0;31mAttributeError\u001b[0m: 'str' object has no attribute 'tags'"
     ]
    }
   ],
   "source": [
    "for instance in instance_list:\n",
    "    describe_ec2(instance)"
   ]
  },
  {
   "cell_type": "code",
   "execution_count": 18,
   "metadata": {},
   "outputs": [
    {
     "name": "stdout",
     "output_type": "stream",
     "text": [
      "jplis-sa-test1\n",
      "jplis-sa-test2\n"
     ]
    }
   ],
   "source": [
    "for instance in instance_list:\n",
    "    print(instance)"
   ]
  },
  {
   "cell_type": "code",
   "execution_count": 31,
   "metadata": {},
   "outputs": [],
   "source": [
    "tag_key = \"Name\"\n",
    "# tag_value = [\"jplis-sa-test1\", \"jplis-sa-test2\"]\n",
    "\n",
    "response = ec2.meta.client.describe_instances(\n",
    "    Filters=[\n",
    "        {\n",
    "            'Name' : 'tag:'+tag_key,\n",
    "            'Values': instance_list\n",
    "        }\n",
    "    ])"
   ]
  },
  {
   "cell_type": "code",
   "execution_count": 35,
   "metadata": {},
   "outputs": [],
   "source": [
    "from pprint import pprint"
   ]
  },
  {
   "cell_type": "code",
   "execution_count": 37,
   "metadata": {
    "collapsed": true
   },
   "outputs": [
    {
     "name": "stdout",
     "output_type": "stream",
     "text": [
      "{'Reservations': [{'Groups': [],\n",
      "                   'Instances': [{'AmiLaunchIndex': 0,\n",
      "                                  'Architecture': 'x86_64',\n",
      "                                  'BlockDeviceMappings': [{'DeviceName': '/dev/sda1',\n",
      "                                                           'Ebs': {'AttachTime': datetime.datetime(2019, 8, 20, 22, 53, 31, tzinfo=tzlocal()),\n",
      "                                                                   'DeleteOnTermination': True,\n",
      "                                                                   'Status': 'attached',\n",
      "                                                                   'VolumeId': 'vol-05f029b78f6a8a79b'}}],\n",
      "                                  'CapacityReservationSpecification': {'CapacityReservationPreference': 'open'},\n",
      "                                  'ClientToken': '',\n",
      "                                  'CpuOptions': {'CoreCount': 1,\n",
      "                                                 'ThreadsPerCore': 1},\n",
      "                                  'EbsOptimized': False,\n",
      "                                  'HibernationOptions': {'Configured': False},\n",
      "                                  'Hypervisor': 'xen',\n",
      "                                  'ImageId': 'ami-fee77d9f',\n",
      "                                  'InstanceId': 'i-08882b69bdaab076c',\n",
      "                                  'InstanceType': 't2.micro',\n",
      "                                  'KeyName': 'jplit-sa-govcloud-key',\n",
      "                                  'LaunchTime': datetime.datetime(2019, 8, 20, 22, 53, 31, tzinfo=tzlocal()),\n",
      "                                  'Monitoring': {'State': 'disabled'},\n",
      "                                  'NetworkInterfaces': [{'Attachment': {'AttachTime': datetime.datetime(2019, 8, 20, 22, 53, 31, tzinfo=tzlocal()),\n",
      "                                                                        'AttachmentId': 'eni-attach-ea824e05',\n",
      "                                                                        'DeleteOnTermination': True,\n",
      "                                                                        'DeviceIndex': 0,\n",
      "                                                                        'Status': 'attached'},\n",
      "                                                         'Description': '',\n",
      "                                                         'Groups': [{'GroupId': 'sg-67355202',\n",
      "                                                                     'GroupName': 'JPLIS-SA '\n",
      "                                                                                  'Default'}],\n",
      "                                                         'InterfaceType': 'interface',\n",
      "                                                         'Ipv6Addresses': [],\n",
      "                                                         'MacAddress': '02:5c:e1:c5:9a:e8',\n",
      "                                                         'NetworkInterfaceId': 'eni-f11623ab',\n",
      "                                                         'OwnerId': '268391441288',\n",
      "                                                         'PrivateDnsName': 'ip-100-64-154-109.us-gov-west-1.compute.internal',\n",
      "                                                         'PrivateIpAddress': '100.64.154.109',\n",
      "                                                         'PrivateIpAddresses': [{'Primary': True,\n",
      "                                                                                 'PrivateDnsName': 'ip-100-64-154-109.us-gov-west-1.compute.internal',\n",
      "                                                                                 'PrivateIpAddress': '100.64.154.109'}],\n",
      "                                                         'SourceDestCheck': True,\n",
      "                                                         'Status': 'in-use',\n",
      "                                                         'SubnetId': 'subnet-bd7907d8',\n",
      "                                                         'VpcId': 'vpc-0bb4676e'}],\n",
      "                                  'Placement': {'AvailabilityZone': 'us-gov-west-1a',\n",
      "                                                'GroupName': '',\n",
      "                                                'Tenancy': 'default'},\n",
      "                                  'PrivateDnsName': 'ip-100-64-154-109.us-gov-west-1.compute.internal',\n",
      "                                  'PrivateIpAddress': '100.64.154.109',\n",
      "                                  'ProductCodes': [],\n",
      "                                  'PublicDnsName': '',\n",
      "                                  'RootDeviceName': '/dev/sda1',\n",
      "                                  'RootDeviceType': 'ebs',\n",
      "                                  'SecurityGroups': [{'GroupId': 'sg-67355202',\n",
      "                                                      'GroupName': 'JPLIS-SA '\n",
      "                                                                   'Default'}],\n",
      "                                  'SourceDestCheck': True,\n",
      "                                  'State': {'Code': 16, 'Name': 'running'},\n",
      "                                  'StateTransitionReason': '',\n",
      "                                  'SubnetId': 'subnet-bd7907d8',\n",
      "                                  'Tags': [{'Key': 'Name',\n",
      "                                            'Value': 'jplis-sa-test1'}],\n",
      "                                  'VirtualizationType': 'hvm',\n",
      "                                  'VpcId': 'vpc-0bb4676e'}],\n",
      "                   'OwnerId': '268391441288',\n",
      "                   'ReservationId': 'r-081a5d5427ce53565'},\n",
      "                  {'Groups': [],\n",
      "                   'Instances': [{'AmiLaunchIndex': 0,\n",
      "                                  'Architecture': 'x86_64',\n",
      "                                  'BlockDeviceMappings': [{'DeviceName': '/dev/sda1',\n",
      "                                                           'Ebs': {'AttachTime': datetime.datetime(2019, 8, 20, 22, 53, 32, tzinfo=tzlocal()),\n",
      "                                                                   'DeleteOnTermination': True,\n",
      "                                                                   'Status': 'attached',\n",
      "                                                                   'VolumeId': 'vol-04dc4abaea63019cc'}}],\n",
      "                                  'CapacityReservationSpecification': {'CapacityReservationPreference': 'open'},\n",
      "                                  'ClientToken': '',\n",
      "                                  'CpuOptions': {'CoreCount': 1,\n",
      "                                                 'ThreadsPerCore': 1},\n",
      "                                  'EbsOptimized': False,\n",
      "                                  'HibernationOptions': {'Configured': False},\n",
      "                                  'Hypervisor': 'xen',\n",
      "                                  'ImageId': 'ami-fee77d9f',\n",
      "                                  'InstanceId': 'i-0e4664ecbec7e449f',\n",
      "                                  'InstanceType': 't2.micro',\n",
      "                                  'KeyName': 'jplit-sa-govcloud-key',\n",
      "                                  'LaunchTime': datetime.datetime(2019, 8, 20, 22, 53, 32, tzinfo=tzlocal()),\n",
      "                                  'Monitoring': {'State': 'disabled'},\n",
      "                                  'NetworkInterfaces': [{'Attachment': {'AttachTime': datetime.datetime(2019, 8, 20, 22, 53, 32, tzinfo=tzlocal()),\n",
      "                                                                        'AttachmentId': 'eni-attach-c79c5028',\n",
      "                                                                        'DeleteOnTermination': True,\n",
      "                                                                        'DeviceIndex': 0,\n",
      "                                                                        'Status': 'attached'},\n",
      "                                                         'Description': '',\n",
      "                                                         'Groups': [{'GroupId': 'sg-67355202',\n",
      "                                                                     'GroupName': 'JPLIS-SA '\n",
      "                                                                                  'Default'}],\n",
      "                                                         'InterfaceType': 'interface',\n",
      "                                                         'Ipv6Addresses': [],\n",
      "                                                         'MacAddress': '02:92:0c:6e:ff:6a',\n",
      "                                                         'NetworkInterfaceId': 'eni-642a1f3e',\n",
      "                                                         'OwnerId': '268391441288',\n",
      "                                                         'PrivateDnsName': 'ip-100-64-154-111.us-gov-west-1.compute.internal',\n",
      "                                                         'PrivateIpAddress': '100.64.154.111',\n",
      "                                                         'PrivateIpAddresses': [{'Primary': True,\n",
      "                                                                                 'PrivateDnsName': 'ip-100-64-154-111.us-gov-west-1.compute.internal',\n",
      "                                                                                 'PrivateIpAddress': '100.64.154.111'}],\n",
      "                                                         'SourceDestCheck': True,\n",
      "                                                         'Status': 'in-use',\n",
      "                                                         'SubnetId': 'subnet-bd7907d8',\n",
      "                                                         'VpcId': 'vpc-0bb4676e'}],\n",
      "                                  'Placement': {'AvailabilityZone': 'us-gov-west-1a',\n",
      "                                                'GroupName': '',\n",
      "                                                'Tenancy': 'default'},\n",
      "                                  'PrivateDnsName': 'ip-100-64-154-111.us-gov-west-1.compute.internal',\n",
      "                                  'PrivateIpAddress': '100.64.154.111',\n",
      "                                  'ProductCodes': [],\n",
      "                                  'PublicDnsName': '',\n",
      "                                  'RootDeviceName': '/dev/sda1',\n",
      "                                  'RootDeviceType': 'ebs',\n",
      "                                  'SecurityGroups': [{'GroupId': 'sg-67355202',\n",
      "                                                      'GroupName': 'JPLIS-SA '\n",
      "                                                                   'Default'}],\n",
      "                                  'SourceDestCheck': True,\n",
      "                                  'State': {'Code': 16, 'Name': 'running'},\n",
      "                                  'StateTransitionReason': '',\n",
      "                                  'SubnetId': 'subnet-bd7907d8',\n",
      "                                  'Tags': [{'Key': 'Name',\n",
      "                                            'Value': 'jplis-sa-test2'}],\n",
      "                                  'VirtualizationType': 'hvm',\n",
      "                                  'VpcId': 'vpc-0bb4676e'}],\n",
      "                   'OwnerId': '268391441288',\n",
      "                   'ReservationId': 'r-00a268971ad2051b6'}],\n",
      " 'ResponseMetadata': {'HTTPHeaders': {'content-type': 'text/xml;charset=UTF-8',\n",
      "                                      'date': 'Tue, 20 Aug 2019 23:10:02 GMT',\n",
      "                                      'server': 'AmazonEC2',\n",
      "                                      'transfer-encoding': 'chunked',\n",
      "                                      'vary': 'accept-encoding'},\n",
      "                      'HTTPStatusCode': 200,\n",
      "                      'RequestId': '182e127d-4899-4ae5-8b48-ff413f5f69f4',\n",
      "                      'RetryAttempts': 0}}\n"
     ]
    }
   ],
   "source": [
    "pprint(response)"
   ]
  },
  {
   "cell_type": "code",
   "execution_count": 45,
   "metadata": {
    "collapsed": true
   },
   "outputs": [
    {
     "name": "stdout",
     "output_type": "stream",
     "text": [
      "[{'Groups': [],\n",
      "  'Instances': [{'AmiLaunchIndex': 0,\n",
      "                 'Architecture': 'x86_64',\n",
      "                 'BlockDeviceMappings': [{'DeviceName': '/dev/sda1',\n",
      "                                          'Ebs': {'AttachTime': datetime.datetime(2019, 8, 20, 22, 53, 31, tzinfo=tzlocal()),\n",
      "                                                  'DeleteOnTermination': True,\n",
      "                                                  'Status': 'attached',\n",
      "                                                  'VolumeId': 'vol-05f029b78f6a8a79b'}}],\n",
      "                 'CapacityReservationSpecification': {'CapacityReservationPreference': 'open'},\n",
      "                 'ClientToken': '',\n",
      "                 'CpuOptions': {'CoreCount': 1, 'ThreadsPerCore': 1},\n",
      "                 'EbsOptimized': False,\n",
      "                 'HibernationOptions': {'Configured': False},\n",
      "                 'Hypervisor': 'xen',\n",
      "                 'ImageId': 'ami-fee77d9f',\n",
      "                 'InstanceId': 'i-08882b69bdaab076c',\n",
      "                 'InstanceType': 't2.micro',\n",
      "                 'KeyName': 'jplit-sa-govcloud-key',\n",
      "                 'LaunchTime': datetime.datetime(2019, 8, 20, 22, 53, 31, tzinfo=tzlocal()),\n",
      "                 'Monitoring': {'State': 'disabled'},\n",
      "                 'NetworkInterfaces': [{'Attachment': {'AttachTime': datetime.datetime(2019, 8, 20, 22, 53, 31, tzinfo=tzlocal()),\n",
      "                                                       'AttachmentId': 'eni-attach-ea824e05',\n",
      "                                                       'DeleteOnTermination': True,\n",
      "                                                       'DeviceIndex': 0,\n",
      "                                                       'Status': 'attached'},\n",
      "                                        'Description': '',\n",
      "                                        'Groups': [{'GroupId': 'sg-67355202',\n",
      "                                                    'GroupName': 'JPLIS-SA '\n",
      "                                                                 'Default'}],\n",
      "                                        'InterfaceType': 'interface',\n",
      "                                        'Ipv6Addresses': [],\n",
      "                                        'MacAddress': '02:5c:e1:c5:9a:e8',\n",
      "                                        'NetworkInterfaceId': 'eni-f11623ab',\n",
      "                                        'OwnerId': '268391441288',\n",
      "                                        'PrivateDnsName': 'ip-100-64-154-109.us-gov-west-1.compute.internal',\n",
      "                                        'PrivateIpAddress': '100.64.154.109',\n",
      "                                        'PrivateIpAddresses': [{'Primary': True,\n",
      "                                                                'PrivateDnsName': 'ip-100-64-154-109.us-gov-west-1.compute.internal',\n",
      "                                                                'PrivateIpAddress': '100.64.154.109'}],\n",
      "                                        'SourceDestCheck': True,\n",
      "                                        'Status': 'in-use',\n",
      "                                        'SubnetId': 'subnet-bd7907d8',\n",
      "                                        'VpcId': 'vpc-0bb4676e'}],\n",
      "                 'Placement': {'AvailabilityZone': 'us-gov-west-1a',\n",
      "                               'GroupName': '',\n",
      "                               'Tenancy': 'default'},\n",
      "                 'PrivateDnsName': 'ip-100-64-154-109.us-gov-west-1.compute.internal',\n",
      "                 'PrivateIpAddress': '100.64.154.109',\n",
      "                 'ProductCodes': [],\n",
      "                 'PublicDnsName': '',\n",
      "                 'RootDeviceName': '/dev/sda1',\n",
      "                 'RootDeviceType': 'ebs',\n",
      "                 'SecurityGroups': [{'GroupId': 'sg-67355202',\n",
      "                                     'GroupName': 'JPLIS-SA Default'}],\n",
      "                 'SourceDestCheck': True,\n",
      "                 'State': {'Code': 16, 'Name': 'running'},\n",
      "                 'StateTransitionReason': '',\n",
      "                 'SubnetId': 'subnet-bd7907d8',\n",
      "                 'Tags': [{'Key': 'Name', 'Value': 'jplis-sa-test1'}],\n",
      "                 'VirtualizationType': 'hvm',\n",
      "                 'VpcId': 'vpc-0bb4676e'}],\n",
      "  'OwnerId': '268391441288',\n",
      "  'ReservationId': 'r-081a5d5427ce53565'},\n",
      " {'Groups': [],\n",
      "  'Instances': [{'AmiLaunchIndex': 0,\n",
      "                 'Architecture': 'x86_64',\n",
      "                 'BlockDeviceMappings': [{'DeviceName': '/dev/sda1',\n",
      "                                          'Ebs': {'AttachTime': datetime.datetime(2019, 8, 20, 22, 53, 32, tzinfo=tzlocal()),\n",
      "                                                  'DeleteOnTermination': True,\n",
      "                                                  'Status': 'attached',\n",
      "                                                  'VolumeId': 'vol-04dc4abaea63019cc'}}],\n",
      "                 'CapacityReservationSpecification': {'CapacityReservationPreference': 'open'},\n",
      "                 'ClientToken': '',\n",
      "                 'CpuOptions': {'CoreCount': 1, 'ThreadsPerCore': 1},\n",
      "                 'EbsOptimized': False,\n",
      "                 'HibernationOptions': {'Configured': False},\n",
      "                 'Hypervisor': 'xen',\n",
      "                 'ImageId': 'ami-fee77d9f',\n",
      "                 'InstanceId': 'i-0e4664ecbec7e449f',\n",
      "                 'InstanceType': 't2.micro',\n",
      "                 'KeyName': 'jplit-sa-govcloud-key',\n",
      "                 'LaunchTime': datetime.datetime(2019, 8, 20, 22, 53, 32, tzinfo=tzlocal()),\n",
      "                 'Monitoring': {'State': 'disabled'},\n",
      "                 'NetworkInterfaces': [{'Attachment': {'AttachTime': datetime.datetime(2019, 8, 20, 22, 53, 32, tzinfo=tzlocal()),\n",
      "                                                       'AttachmentId': 'eni-attach-c79c5028',\n",
      "                                                       'DeleteOnTermination': True,\n",
      "                                                       'DeviceIndex': 0,\n",
      "                                                       'Status': 'attached'},\n",
      "                                        'Description': '',\n",
      "                                        'Groups': [{'GroupId': 'sg-67355202',\n",
      "                                                    'GroupName': 'JPLIS-SA '\n",
      "                                                                 'Default'}],\n",
      "                                        'InterfaceType': 'interface',\n",
      "                                        'Ipv6Addresses': [],\n",
      "                                        'MacAddress': '02:92:0c:6e:ff:6a',\n",
      "                                        'NetworkInterfaceId': 'eni-642a1f3e',\n",
      "                                        'OwnerId': '268391441288',\n",
      "                                        'PrivateDnsName': 'ip-100-64-154-111.us-gov-west-1.compute.internal',\n",
      "                                        'PrivateIpAddress': '100.64.154.111',\n",
      "                                        'PrivateIpAddresses': [{'Primary': True,\n",
      "                                                                'PrivateDnsName': 'ip-100-64-154-111.us-gov-west-1.compute.internal',\n",
      "                                                                'PrivateIpAddress': '100.64.154.111'}],\n",
      "                                        'SourceDestCheck': True,\n",
      "                                        'Status': 'in-use',\n",
      "                                        'SubnetId': 'subnet-bd7907d8',\n",
      "                                        'VpcId': 'vpc-0bb4676e'}],\n",
      "                 'Placement': {'AvailabilityZone': 'us-gov-west-1a',\n",
      "                               'GroupName': '',\n",
      "                               'Tenancy': 'default'},\n",
      "                 'PrivateDnsName': 'ip-100-64-154-111.us-gov-west-1.compute.internal',\n",
      "                 'PrivateIpAddress': '100.64.154.111',\n",
      "                 'ProductCodes': [],\n",
      "                 'PublicDnsName': '',\n",
      "                 'RootDeviceName': '/dev/sda1',\n",
      "                 'RootDeviceType': 'ebs',\n",
      "                 'SecurityGroups': [{'GroupId': 'sg-67355202',\n",
      "                                     'GroupName': 'JPLIS-SA Default'}],\n",
      "                 'SourceDestCheck': True,\n",
      "                 'State': {'Code': 16, 'Name': 'running'},\n",
      "                 'StateTransitionReason': '',\n",
      "                 'SubnetId': 'subnet-bd7907d8',\n",
      "                 'Tags': [{'Key': 'Name', 'Value': 'jplis-sa-test2'}],\n",
      "                 'VirtualizationType': 'hvm',\n",
      "                 'VpcId': 'vpc-0bb4676e'}],\n",
      "  'OwnerId': '268391441288',\n",
      "  'ReservationId': 'r-00a268971ad2051b6'}]\n"
     ]
    }
   ],
   "source": [
    "pprint(response['Reservations'])"
   ]
  },
  {
   "cell_type": "code",
   "execution_count": 50,
   "metadata": {
    "collapsed": true
   },
   "outputs": [
    {
     "name": "stdout",
     "output_type": "stream",
     "text": [
      "[{'AmiLaunchIndex': 0,\n",
      "  'Architecture': 'x86_64',\n",
      "  'BlockDeviceMappings': [{'DeviceName': '/dev/sda1',\n",
      "                           'Ebs': {'AttachTime': datetime.datetime(2019, 8, 20, 22, 53, 32, tzinfo=tzlocal()),\n",
      "                                   'DeleteOnTermination': True,\n",
      "                                   'Status': 'attached',\n",
      "                                   'VolumeId': 'vol-04dc4abaea63019cc'}}],\n",
      "  'CapacityReservationSpecification': {'CapacityReservationPreference': 'open'},\n",
      "  'ClientToken': '',\n",
      "  'CpuOptions': {'CoreCount': 1, 'ThreadsPerCore': 1},\n",
      "  'EbsOptimized': False,\n",
      "  'HibernationOptions': {'Configured': False},\n",
      "  'Hypervisor': 'xen',\n",
      "  'ImageId': 'ami-fee77d9f',\n",
      "  'InstanceId': 'i-0e4664ecbec7e449f',\n",
      "  'InstanceType': 't2.micro',\n",
      "  'KeyName': 'jplit-sa-govcloud-key',\n",
      "  'LaunchTime': datetime.datetime(2019, 8, 20, 22, 53, 32, tzinfo=tzlocal()),\n",
      "  'Monitoring': {'State': 'disabled'},\n",
      "  'NetworkInterfaces': [{'Attachment': {'AttachTime': datetime.datetime(2019, 8, 20, 22, 53, 32, tzinfo=tzlocal()),\n",
      "                                        'AttachmentId': 'eni-attach-c79c5028',\n",
      "                                        'DeleteOnTermination': True,\n",
      "                                        'DeviceIndex': 0,\n",
      "                                        'Status': 'attached'},\n",
      "                         'Description': '',\n",
      "                         'Groups': [{'GroupId': 'sg-67355202',\n",
      "                                     'GroupName': 'JPLIS-SA Default'}],\n",
      "                         'InterfaceType': 'interface',\n",
      "                         'Ipv6Addresses': [],\n",
      "                         'MacAddress': '02:92:0c:6e:ff:6a',\n",
      "                         'NetworkInterfaceId': 'eni-642a1f3e',\n",
      "                         'OwnerId': '268391441288',\n",
      "                         'PrivateDnsName': 'ip-100-64-154-111.us-gov-west-1.compute.internal',\n",
      "                         'PrivateIpAddress': '100.64.154.111',\n",
      "                         'PrivateIpAddresses': [{'Primary': True,\n",
      "                                                 'PrivateDnsName': 'ip-100-64-154-111.us-gov-west-1.compute.internal',\n",
      "                                                 'PrivateIpAddress': '100.64.154.111'}],\n",
      "                         'SourceDestCheck': True,\n",
      "                         'Status': 'in-use',\n",
      "                         'SubnetId': 'subnet-bd7907d8',\n",
      "                         'VpcId': 'vpc-0bb4676e'}],\n",
      "  'Placement': {'AvailabilityZone': 'us-gov-west-1a',\n",
      "                'GroupName': '',\n",
      "                'Tenancy': 'default'},\n",
      "  'PrivateDnsName': 'ip-100-64-154-111.us-gov-west-1.compute.internal',\n",
      "  'PrivateIpAddress': '100.64.154.111',\n",
      "  'ProductCodes': [],\n",
      "  'PublicDnsName': '',\n",
      "  'RootDeviceName': '/dev/sda1',\n",
      "  'RootDeviceType': 'ebs',\n",
      "  'SecurityGroups': [{'GroupId': 'sg-67355202',\n",
      "                      'GroupName': 'JPLIS-SA Default'}],\n",
      "  'SourceDestCheck': True,\n",
      "  'State': {'Code': 16, 'Name': 'running'},\n",
      "  'StateTransitionReason': '',\n",
      "  'SubnetId': 'subnet-bd7907d8',\n",
      "  'Tags': [{'Key': 'Name', 'Value': 'jplis-sa-test2'}],\n",
      "  'VirtualizationType': 'hvm',\n",
      "  'VpcId': 'vpc-0bb4676e'}]\n"
     ]
    }
   ],
   "source": [
    "pprint(response['Reservations'][1]['Instances'])"
   ]
  },
  {
   "cell_type": "code",
   "execution_count": 53,
   "metadata": {},
   "outputs": [
    {
     "name": "stdout",
     "output_type": "stream",
     "text": [
      "Instance ID is i-08882b69bdaab076c\n",
      "Instance ID is i-0e4664ecbec7e449f\n"
     ]
    }
   ],
   "source": [
    "ec2_to_delete = []\n",
    "for reservation in response['Reservations']:\n",
    " \n",
    "    for instance in reservation['Instances']:\n",
    "        id=instance[\"InstanceId\"]\n",
    "        instance_tag = instance['Tags']\n",
    "        print (\"Instance ID is %s\" % id)\n",
    "        ec2_to_delete.append(id)"
   ]
  },
  {
   "cell_type": "code",
   "execution_count": 55,
   "metadata": {},
   "outputs": [
    {
     "data": {
      "text/plain": [
       "['i-08882b69bdaab076c', 'i-0e4664ecbec7e449f']"
      ]
     },
     "execution_count": 55,
     "metadata": {},
     "output_type": "execute_result"
    }
   ],
   "source": [
    "ec2_to_delete"
   ]
  },
  {
   "cell_type": "code",
   "execution_count": 62,
   "metadata": {},
   "outputs": [],
   "source": [
    "def delete_ec2(i):\n",
    "    ec2.meta.client.terminate_instances(InstanceIds=i)\n",
    "    print('Deleted EC2:', i, '\\n')"
   ]
  },
  {
   "cell_type": "code",
   "execution_count": 64,
   "metadata": {},
   "outputs": [
    {
     "name": "stdout",
     "output_type": "stream",
     "text": [
      "Deleted EC2: ['i-08882b69bdaab076c', 'i-0e4664ecbec7e449f'] \n",
      "\n"
     ]
    }
   ],
   "source": [
    "delete_ec2(ec2_to_delete)"
   ]
  }
 ],
 "metadata": {
  "kernelspec": {
   "display_name": "Python 3",
   "language": "python",
   "name": "python3"
  },
  "language_info": {
   "codemirror_mode": {
    "name": "ipython",
    "version": 3
   },
   "file_extension": ".py",
   "mimetype": "text/x-python",
   "name": "python",
   "nbconvert_exporter": "python",
   "pygments_lexer": "ipython3",
   "version": "3.7.3"
  }
 },
 "nbformat": 4,
 "nbformat_minor": 2
}
