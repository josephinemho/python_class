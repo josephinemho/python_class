{
 "cells": [
  {
   "cell_type": "markdown",
   "metadata": {},
   "source": [
    "# To securely generate AWS keys (because we're at JPL):\n",
    "Note: use `brew install` if on a Mac (these are instructions for CentOS/RHEL)\n",
    "1. `cd` outside of your `python_class` repository\n",
    "2. `git clone https://github.jpl.nasa.gov/cloud/Access-Key-Generation`\n",
    "3. `sudo yum install python-pip`\n",
    "4. `sudo pip install boto`\n",
    "5. `sudo pip install bs4`\n",
    "6. `cd` into the Access-Key-Generation directory\n",
    "7. Run the following:\n",
    " * python aws-login-gov.py\n",
    " * Enter your username and password\n",
    " * Choose a role to assume\n",
    " \n",
    "\n",
    "```\n",
    "jmho@jmho-ds:~/Access-Key-Generation$ python aws-login-gov.py\n",
    "('credential filename path: ', '/home/jmho/.aws/credentials')\n",
    "('awsdir does not exist.  creating ', '/home/jmho/.aws')\n",
    "Username:jmho\n",
    "Password:\n",
    "\n",
    "\n",
    "Please choose the role you would like to assume:\n",
    "[0]: arn:aws-us-gov:iam::178376886980:role/sa_standard\n",
    "[1]: arn:aws-us-gov:iam::178376886980:role/sa_elevated\n",
    "[2]: arn:aws-us-gov:iam::030600861460:role/spacetech\n",
    "[3]: arn:aws-us-gov:iam::309569767193:role/sa_elevated\n",
    "[4]: arn:aws-us-gov:iam::309569767193:role/sa_standard\n",
    "[5]: arn:aws-us-gov:iam::760896038145:role/dta\n",
    "[6]: arn:aws-us-gov:iam::760896038145:role/sa_elevated\n",
    "[7]: arn:aws-us-gov:iam::760896038145:role/sa_standard\n",
    "[8]: arn:aws-us-gov:iam::666247408291:role/sa_standard\n",
    "[9]: arn:aws-us-gov:iam::666247408291:role/sa_elevated\n",
    "[10]: arn:aws-us-gov:iam::474723072701:role/sa_standard\n",
    "[11]: arn:aws-us-gov:iam::474723072701:role/sa_elevated\n",
    "[12]: arn:aws-us-gov:iam::403874144708:role/sa_standard\n",
    "[13]: arn:aws-us-gov:iam::403874144708:role/sa_elevated\n",
    "[14]: arn:aws-us-gov:iam::333703696914:role/sa_standard\n",
    "[15]: arn:aws-us-gov:iam::333703696914:role/sa_elevated\n",
    "[16]: arn:aws-us-gov:iam::169121742168:role/sa_elevated\n",
    "[17]: arn:aws-us-gov:iam::852730468670:role/sa_standard\n",
    "[18]: arn:aws-us-gov:iam::852730468670:role/sa_elevated\n",
    "[19]: arn:aws-us-gov:iam::130254752571:role/sa_elevated\n",
    "[20]: arn:aws-us-gov:iam::045699465924:role/sa_elevated\n",
    "[21]: arn:aws-us-gov:iam::268391441288:role/sa_standard\n",
    "[22]: arn:aws-us-gov:iam::268391441288:role/sa_elevated\n",
    "[23]: arn:aws-us-gov:iam::030600861460:role/sa_elevated\n",
    "[24]: arn:aws-us-gov:iam::030600861460:role/sa_standard\n",
    "[25]: arn:aws-us-gov:iam::729340176604:role/power_user\n",
    "[26]: arn:aws-us-gov:iam::414814460947:role/SAManagement\n",
    "[27]: arn:aws-us-gov:iam::418299459758:role/SAManagement\n",
    "[28]: arn:aws-us-gov:iam::552814493771:role/account_owner\n",
    "[29]: arn:aws-us-gov:iam::169121742168:role/power_user\n",
    "Selection:23\n",
    "\n",
    "\n",
    "----------------------------------------------------------------\n",
    "Your new access key pair has been stored in the AWS configuration file /home/jmho/.aws/credentials under the saml-gov profile.\n",
    "Note that it will expire at 2019-08-15T23:39:50Z.\n",
    "After this time, you may safely rerun this script to refresh your access key pair.\n",
    "To use this credential, call the AWS CLI with the --profile option (e.g. aws --profile saml-gov ec2 describe-instances).\n",
    "----------------------------------------------------------------\n",
    "```"
   ]
  },
  {
   "cell_type": "code",
   "execution_count": 2,
   "metadata": {
    "scrolled": true
   },
   "outputs": [
    {
     "name": "stdout",
     "output_type": "stream",
     "text": [
      "Collecting boto3\n",
      "\u001b[?25l  Downloading https://files.pythonhosted.org/packages/a4/bd/ad5f6fb3e19d47187103a536715c3629104dde0906dfa304f11c73197901/boto3-1.9.209-py2.py3-none-any.whl (128kB)\n",
      "\u001b[K    100% |████████████████████████████████| 133kB 1.6MB/s ta 0:00:01\n",
      "\u001b[?25hCollecting botocore<1.13.0,>=1.12.209 (from boto3)\n",
      "\u001b[?25l  Downloading https://files.pythonhosted.org/packages/d9/45/08d99ad60c02e7c244882d7151dc8f0b4951c7f1ab1d98b36053229ecdd3/botocore-1.12.209-py2.py3-none-any.whl (5.7MB)\n",
      "\u001b[K    100% |████████████████████████████████| 5.7MB 8.5MB/s eta 0:00:01\n",
      "\u001b[?25hCollecting s3transfer<0.3.0,>=0.2.0 (from boto3)\n",
      "\u001b[?25l  Downloading https://files.pythonhosted.org/packages/16/8a/1fc3dba0c4923c2a76e1ff0d52b305c44606da63f718d14d3231e21c51b0/s3transfer-0.2.1-py2.py3-none-any.whl (70kB)\n",
      "\u001b[K    100% |████████████████████████████████| 71kB 27.0MB/s ta 0:00:01\n",
      "\u001b[?25hCollecting jmespath<1.0.0,>=0.7.1 (from boto3)\n",
      "  Downloading https://files.pythonhosted.org/packages/83/94/7179c3832a6d45b266ddb2aac329e101367fbdb11f425f13771d27f225bb/jmespath-0.9.4-py2.py3-none-any.whl\n",
      "Collecting docutils<0.16,>=0.10 (from botocore<1.13.0,>=1.12.209->boto3)\n",
      "\u001b[?25l  Downloading https://files.pythonhosted.org/packages/22/cd/a6aa959dca619918ccb55023b4cb151949c64d4d5d55b3f4ffd7eee0c6e8/docutils-0.15.2-py3-none-any.whl (547kB)\n",
      "\u001b[K    100% |████████████████████████████████| 552kB 26.1MB/s ta 0:00:01\n",
      "\u001b[?25hRequirement already satisfied: python-dateutil<3.0.0,>=2.1; python_version >= \"2.7\" in /opt/conda/lib/python3.7/site-packages (from botocore<1.13.0,>=1.12.209->boto3) (2.8.0)\n",
      "Requirement already satisfied: urllib3<1.26,>=1.20; python_version >= \"3.4\" in /opt/conda/lib/python3.7/site-packages (from botocore<1.13.0,>=1.12.209->boto3) (1.24.1)\n",
      "Requirement already satisfied: six>=1.5 in /opt/conda/lib/python3.7/site-packages (from python-dateutil<3.0.0,>=2.1; python_version >= \"2.7\"->botocore<1.13.0,>=1.12.209->boto3) (1.12.0)\n",
      "Installing collected packages: docutils, jmespath, botocore, s3transfer, boto3\n",
      "Successfully installed boto3-1.9.209 botocore-1.12.209 docutils-0.15.2 jmespath-0.9.4 s3transfer-0.2.1\n"
     ]
    }
   ],
   "source": [
    "!pip install boto3"
   ]
  },
  {
   "cell_type": "code",
   "execution_count": 3,
   "metadata": {
    "scrolled": true
   },
   "outputs": [],
   "source": [
    "import boto3"
   ]
  },
  {
   "cell_type": "code",
   "execution_count": 9,
   "metadata": {},
   "outputs": [],
   "source": [
    "client = boto3.client('sts')"
   ]
  },
  {
   "cell_type": "code",
   "execution_count": null,
   "metadata": {},
   "outputs": [],
   "source": [
    "client."
   ]
  },
  {
   "cell_type": "code",
   "execution_count": 6,
   "metadata": {},
   "outputs": [
    {
     "name": "stdout",
     "output_type": "stream",
     "text": [
      "ec2.ServiceResource()\n"
     ]
    }
   ],
   "source": [
    "print(ec2)"
   ]
  },
  {
   "cell_type": "code",
   "execution_count": 8,
   "metadata": {},
   "outputs": [
    {
     "ename": "ClientError",
     "evalue": "An error occurred (AuthFailure) when calling the RunInstances operation: AWS was not able to validate the provided access credentials",
     "output_type": "error",
     "traceback": [
      "\u001b[0;31m\u001b[0m",
      "\u001b[0;31mClientError\u001b[0mTraceback (most recent call last)",
      "\u001b[0;32m<ipython-input-8-90052c171fa8>\u001b[0m in \u001b[0;36m<module>\u001b[0;34m\u001b[0m\n\u001b[0;32m----> 1\u001b[0;31m \u001b[0mec2\u001b[0m\u001b[0;34m.\u001b[0m\u001b[0mcreate_instances\u001b[0m\u001b[0;34m(\u001b[0m\u001b[0mImageId\u001b[0m\u001b[0;34m=\u001b[0m\u001b[0;34m'ami-955e38f4'\u001b[0m\u001b[0;34m,\u001b[0m \u001b[0mMinCount\u001b[0m\u001b[0;34m=\u001b[0m\u001b[0;36m1\u001b[0m\u001b[0;34m,\u001b[0m \u001b[0mMaxCount\u001b[0m\u001b[0;34m=\u001b[0m\u001b[0;36m2\u001b[0m\u001b[0;34m)\u001b[0m\u001b[0;34m\u001b[0m\u001b[0;34m\u001b[0m\u001b[0m\n\u001b[0m",
      "\u001b[0;32m/opt/conda/lib/python3.7/site-packages/boto3/resources/factory.py\u001b[0m in \u001b[0;36mdo_action\u001b[0;34m(self, *args, **kwargs)\u001b[0m\n\u001b[1;32m    518\u001b[0m             \u001b[0;31m# instance via ``self``.\u001b[0m\u001b[0;34m\u001b[0m\u001b[0;34m\u001b[0m\u001b[0;34m\u001b[0m\u001b[0m\n\u001b[1;32m    519\u001b[0m             \u001b[0;32mdef\u001b[0m \u001b[0mdo_action\u001b[0m\u001b[0;34m(\u001b[0m\u001b[0mself\u001b[0m\u001b[0;34m,\u001b[0m \u001b[0;34m*\u001b[0m\u001b[0margs\u001b[0m\u001b[0;34m,\u001b[0m \u001b[0;34m**\u001b[0m\u001b[0mkwargs\u001b[0m\u001b[0;34m)\u001b[0m\u001b[0;34m:\u001b[0m\u001b[0;34m\u001b[0m\u001b[0;34m\u001b[0m\u001b[0m\n\u001b[0;32m--> 520\u001b[0;31m                 \u001b[0mresponse\u001b[0m \u001b[0;34m=\u001b[0m \u001b[0maction\u001b[0m\u001b[0;34m(\u001b[0m\u001b[0mself\u001b[0m\u001b[0;34m,\u001b[0m \u001b[0;34m*\u001b[0m\u001b[0margs\u001b[0m\u001b[0;34m,\u001b[0m \u001b[0;34m**\u001b[0m\u001b[0mkwargs\u001b[0m\u001b[0;34m)\u001b[0m\u001b[0;34m\u001b[0m\u001b[0;34m\u001b[0m\u001b[0m\n\u001b[0m\u001b[1;32m    521\u001b[0m \u001b[0;34m\u001b[0m\u001b[0m\n\u001b[1;32m    522\u001b[0m                 \u001b[0;32mif\u001b[0m \u001b[0mhasattr\u001b[0m\u001b[0;34m(\u001b[0m\u001b[0mself\u001b[0m\u001b[0;34m,\u001b[0m \u001b[0;34m'load'\u001b[0m\u001b[0;34m)\u001b[0m\u001b[0;34m:\u001b[0m\u001b[0;34m\u001b[0m\u001b[0;34m\u001b[0m\u001b[0m\n",
      "\u001b[0;32m/opt/conda/lib/python3.7/site-packages/boto3/resources/action.py\u001b[0m in \u001b[0;36m__call__\u001b[0;34m(self, parent, *args, **kwargs)\u001b[0m\n\u001b[1;32m     81\u001b[0m                     operation_name, params)\n\u001b[1;32m     82\u001b[0m \u001b[0;34m\u001b[0m\u001b[0m\n\u001b[0;32m---> 83\u001b[0;31m         \u001b[0mresponse\u001b[0m \u001b[0;34m=\u001b[0m \u001b[0mgetattr\u001b[0m\u001b[0;34m(\u001b[0m\u001b[0mparent\u001b[0m\u001b[0;34m.\u001b[0m\u001b[0mmeta\u001b[0m\u001b[0;34m.\u001b[0m\u001b[0mclient\u001b[0m\u001b[0;34m,\u001b[0m \u001b[0moperation_name\u001b[0m\u001b[0;34m)\u001b[0m\u001b[0;34m(\u001b[0m\u001b[0;34m**\u001b[0m\u001b[0mparams\u001b[0m\u001b[0;34m)\u001b[0m\u001b[0;34m\u001b[0m\u001b[0;34m\u001b[0m\u001b[0m\n\u001b[0m\u001b[1;32m     84\u001b[0m \u001b[0;34m\u001b[0m\u001b[0m\n\u001b[1;32m     85\u001b[0m         \u001b[0mlogger\u001b[0m\u001b[0;34m.\u001b[0m\u001b[0mdebug\u001b[0m\u001b[0;34m(\u001b[0m\u001b[0;34m'Response: %r'\u001b[0m\u001b[0;34m,\u001b[0m \u001b[0mresponse\u001b[0m\u001b[0;34m)\u001b[0m\u001b[0;34m\u001b[0m\u001b[0;34m\u001b[0m\u001b[0m\n",
      "\u001b[0;32m/opt/conda/lib/python3.7/site-packages/botocore/client.py\u001b[0m in \u001b[0;36m_api_call\u001b[0;34m(self, *args, **kwargs)\u001b[0m\n\u001b[1;32m    355\u001b[0m                     \"%s() only accepts keyword arguments.\" % py_operation_name)\n\u001b[1;32m    356\u001b[0m             \u001b[0;31m# The \"self\" in this scope is referring to the BaseClient.\u001b[0m\u001b[0;34m\u001b[0m\u001b[0;34m\u001b[0m\u001b[0;34m\u001b[0m\u001b[0m\n\u001b[0;32m--> 357\u001b[0;31m             \u001b[0;32mreturn\u001b[0m \u001b[0mself\u001b[0m\u001b[0;34m.\u001b[0m\u001b[0m_make_api_call\u001b[0m\u001b[0;34m(\u001b[0m\u001b[0moperation_name\u001b[0m\u001b[0;34m,\u001b[0m \u001b[0mkwargs\u001b[0m\u001b[0;34m)\u001b[0m\u001b[0;34m\u001b[0m\u001b[0;34m\u001b[0m\u001b[0m\n\u001b[0m\u001b[1;32m    358\u001b[0m \u001b[0;34m\u001b[0m\u001b[0m\n\u001b[1;32m    359\u001b[0m         \u001b[0m_api_call\u001b[0m\u001b[0;34m.\u001b[0m\u001b[0m__name__\u001b[0m \u001b[0;34m=\u001b[0m \u001b[0mstr\u001b[0m\u001b[0;34m(\u001b[0m\u001b[0mpy_operation_name\u001b[0m\u001b[0;34m)\u001b[0m\u001b[0;34m\u001b[0m\u001b[0;34m\u001b[0m\u001b[0m\n",
      "\u001b[0;32m/opt/conda/lib/python3.7/site-packages/botocore/client.py\u001b[0m in \u001b[0;36m_make_api_call\u001b[0;34m(self, operation_name, api_params)\u001b[0m\n\u001b[1;32m    659\u001b[0m             \u001b[0merror_code\u001b[0m \u001b[0;34m=\u001b[0m \u001b[0mparsed_response\u001b[0m\u001b[0;34m.\u001b[0m\u001b[0mget\u001b[0m\u001b[0;34m(\u001b[0m\u001b[0;34m\"Error\"\u001b[0m\u001b[0;34m,\u001b[0m \u001b[0;34m{\u001b[0m\u001b[0;34m}\u001b[0m\u001b[0;34m)\u001b[0m\u001b[0;34m.\u001b[0m\u001b[0mget\u001b[0m\u001b[0;34m(\u001b[0m\u001b[0;34m\"Code\"\u001b[0m\u001b[0;34m)\u001b[0m\u001b[0;34m\u001b[0m\u001b[0;34m\u001b[0m\u001b[0m\n\u001b[1;32m    660\u001b[0m             \u001b[0merror_class\u001b[0m \u001b[0;34m=\u001b[0m \u001b[0mself\u001b[0m\u001b[0;34m.\u001b[0m\u001b[0mexceptions\u001b[0m\u001b[0;34m.\u001b[0m\u001b[0mfrom_code\u001b[0m\u001b[0;34m(\u001b[0m\u001b[0merror_code\u001b[0m\u001b[0;34m)\u001b[0m\u001b[0;34m\u001b[0m\u001b[0;34m\u001b[0m\u001b[0m\n\u001b[0;32m--> 661\u001b[0;31m             \u001b[0;32mraise\u001b[0m \u001b[0merror_class\u001b[0m\u001b[0;34m(\u001b[0m\u001b[0mparsed_response\u001b[0m\u001b[0;34m,\u001b[0m \u001b[0moperation_name\u001b[0m\u001b[0;34m)\u001b[0m\u001b[0;34m\u001b[0m\u001b[0;34m\u001b[0m\u001b[0m\n\u001b[0m\u001b[1;32m    662\u001b[0m         \u001b[0;32melse\u001b[0m\u001b[0;34m:\u001b[0m\u001b[0;34m\u001b[0m\u001b[0;34m\u001b[0m\u001b[0m\n\u001b[1;32m    663\u001b[0m             \u001b[0;32mreturn\u001b[0m \u001b[0mparsed_response\u001b[0m\u001b[0;34m\u001b[0m\u001b[0;34m\u001b[0m\u001b[0m\n",
      "\u001b[0;31mClientError\u001b[0m: An error occurred (AuthFailure) when calling the RunInstances operation: AWS was not able to validate the provided access credentials"
     ]
    }
   ],
   "source": [
    "ec2.create_instances(ImageId='ami-955e38f4', MinCount=1, MaxCount=2)"
   ]
  },
  {
   "cell_type": "code",
   "execution_count": null,
   "metadata": {},
   "outputs": [],
   "source": []
  }
 ],
 "metadata": {
  "kernelspec": {
   "display_name": "Python 3",
   "language": "python",
   "name": "python3"
  },
  "language_info": {
   "codemirror_mode": {
    "name": "ipython",
    "version": 3
   },
   "file_extension": ".py",
   "mimetype": "text/x-python",
   "name": "python",
   "nbconvert_exporter": "python",
   "pygments_lexer": "ipython3",
   "version": "3.7.3"
  }
 },
 "nbformat": 4,
 "nbformat_minor": 2
}
