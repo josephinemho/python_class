{
 "cells": [
  {
   "cell_type": "markdown",
   "metadata": {},
   "source": [
    "# Configuring your AWS instance with Docker\n",
    "## 1. Access your instance\n",
    " * Click **Instances** and click on the instance you just created. Make note of the IP address:\n",
    " ![](images/aws_ip.png)\n",
    " * SSH into your new instance: `ssh ec2-user@<your_public_ip>`"
   ]
  },
  {
   "cell_type": "markdown",
   "metadata": {},
   "source": [
    "## 2. Install Git and get the class repository from Github\n",
    " * `sudo yum install git`\n",
    " * Clone the git repository for this class (`origin`)\n",
    "  * `git clone https://github.com/josephinemho/python_class.git`\n",
    "  * `cd python_class`"
   ]
  },
  {
   "cell_type": "markdown",
   "metadata": {},
   "source": [
    "## 3. Install Docker and pull the `jupyter/minimal-notebook` image\n",
    " * `sudo yum install docker`\n",
    " * `sudo docker pull jupyter/minimal-notebook`"
   ]
  },
  {
   "cell_type": "markdown",
   "metadata": {},
   "source": [
    "## 4. Start a container for your `python_class` work\n",
    " * Make sure you are in the `python_class` directory. You can double-check with the `pwd` command, your output should look like this:\n",
    "```\n",
    "[ec2-user@ip-172-31-40-101 python_class]$ pwd\n",
    "/home/ec2-user/python_class\n",
    "```\n",
    "\n",
    " * `sudo docker run -it -d -p 8888:8888 -v `pwd`:/home/jovyan/work --name <your_container> jupyter/minimal-notebook`\n",
    " * Check to see if your container is running by using the `docker ps` command:\n",
    "```\n",
    "[ec2-user@ip-172-31-40-101 python_class]$ sudo docker ps\n",
    "Emulate Docker CLI using podman. Create /etc/containers/nodocker to quiet msg.\n",
    "CONTAINER ID  IMAGE                                      COMMAND               CREATED         STATUS             PORTS                   NAMES\n",
    "d7da9457308e  docker.io/jupyter/minimal-notebook:latest  tini -g -- start-...  33 seconds ago  Up 33 seconds ago  0.0.0.0:8888->8888/tcp  my_container\n",
    "```\n",
    "\n",
    " * Access your container by typing in your browser: `<your_public_ip>:8888`\n",
    " * Grab your token by typing in your terminal: `sudo docker exec <your_container> jupyter notebook list`"
   ]
  },
  {
   "cell_type": "markdown",
   "metadata": {},
   "source": [
    "# You have just configured a Jupyter server using Docker and pulled code from Github. Your environment is all set for programming in Python!"
   ]
  }
 ],
 "metadata": {
  "kernelspec": {
   "display_name": "Python 3",
   "language": "python",
   "name": "python3"
  },
  "language_info": {
   "codemirror_mode": {
    "name": "ipython",
    "version": 3
   },
   "file_extension": ".py",
   "mimetype": "text/x-python",
   "name": "python",
   "nbconvert_exporter": "python",
   "pygments_lexer": "ipython3",
   "version": "3.7.3"
  }
 },
 "nbformat": 4,
 "nbformat_minor": 2
}
