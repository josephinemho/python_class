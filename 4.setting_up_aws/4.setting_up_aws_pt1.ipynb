{
 "cells": [
  {
   "cell_type": "markdown",
   "metadata": {},
   "source": [
    "# Setting up your own server on Amazon Web Services (AWS)\n",
    "## 1. Create an account on AWS:\n",
    " * Go to https://aws.amazon.com/free/activate-your-free-tier-account/#\n",
    " * Click **Create an AWS Account** on the top right corner and follow the instructions (Select **Account type: Personal**)\n",
    " * Create Account and Continue\n",
    " * Add payment information\n",
    " * Confirm your identity\n",
    " * Select the **Basic Plan**\n",
    " * You may be asked to sign in again. If so, make sure you are signing in **using root account credentials** and log in with your email and password:\n",
    " ![](images/aws_root_account_creds.png)\n",
    "\n",
    "## 2. Configure your AWS account\n",
    "The next thing you will need to do is configure your AWS Account. To do this, you will need to configure:\n",
    "\n",
    "- a <u>Key Pair</u>: corresponds to the SSH Keypair on your local system. It will be added to any instance (aka server) we create allowing access via SSH.\n",
    "- a <u>Security Group</u>: defines the ports that will be open to internet traffic. \n",
    "\n",
    "### Create Key Pair\n",
    "**Note**: The terminology can be a bit confusing. AWS refers to an uploaded **public key** as a “key pair.” To be clear, you are uploading the public component of a key pair you have created on your system (e.g. `id_rsa.pub`). The **private** key will remain on your system (e.g. `id_rsa`).\n",
    "\n",
    " * Access the EC2 Dashboard\n",
    " ![](images/aws_services_ec2.png)\n",
    " * Add your PUBLIC key to AWS\n",
    "  * Click **Key Pairs --> Create Key Pair --> Import Key Pair**. Make sure to give the key pair a computer-friendly name, like \"my_personal_laptop\". Paste the contents of your public key (id_rsa.pub) into the public key contents. Click Import to create the new key.\n",
    "  ![](images/aws_import_key_pair.png)\n",
    "  \n",
    "  * Note: you can usually find your public and private key in `~/.ssh`. If you `cd ~/.ssh;ls` and don't see them, you can create a new key pair by running `ssh-keygen`\n",
    " \n",
    "### Create Security Group\n",
    " * Click **Security Groups (under Network & Security) --> Create Security Group**. Add the following Inbound rules and create the security group. \n",
    " ![](images/aws_create_security_group.png)\n",
    "**Note**: You can set the Source to \"My IP\" if your IP will not change (for example, if you are working from home only), but I recommend setting all three to \"Anywhere\" (which is less secure, but guarantees you have access to your Jupyter server even if you're connecting from a "
   ]
  },
  {
   "cell_type": "markdown",
   "metadata": {},
   "source": [
    "## 3. Launch a Virtual Machine (you may have to wait up to 24hrs to do this part)\n",
    "Launch your very own server using AWS EC2. EC2 is the most popular service offered by Amazon Web Services and stands for \"Elastic Compute Cloud\". For our purposes, compute capacity means a cloud-based computer you will use to run your platform. Read more about EC2 [here](https://aws.amazon.com/ec2/). Costs are free for the first 12 months as long as you stay within certain usage limits, such as only running one server at a time (i.e. T-2.micro). \n",
    " * Click **Instances --> Launch Instance**\n",
    " * The first tab is “Choose AMI.” An AMI is an [Amazon Machine Image](http://docs.aws.amazon.com/AWSEC2/latest/UserGuide/AMIs.html) and contains the software you will need to run your sandbox machine. I recommend choosing the latest stable Red Hat Server release that is free-tier eligible. At the time of writing, this was ami-0520e698dd500b1d1, Red Hat Enterprise Linux 8 (HVM), SSD Volume Type.\n",
    " ![](images/aws_rhel.png)\n",
    " * The second tab is \"Choose Instance Type.\" Pick the free tier eligible `t2.micro`. \n",
    " * The third tab \"Configure Instance\" can be safely ignored\n",
    " * The fourth tab is \"Add Storage.\" Change the size from 10GB to 30GB. This is because our Jupyter Docker images can take up more than 5GB of disk space in the local image cache. Also, as noted on this tab:\n",
    " > Free tier eligible customers can get up to 30 GB of EBS General Purpose (SSD) or Magnetic storage.\n",
    " * The fifth tab \"Add Tags\" can be safely ignored\n",
    " * The sixth tab \"Configure Security Group\" is critical for the proper functioning of your server. By default this tab will be set up to \"Create a new security group\". This will not work for us! We recommend using the security group we created earlier (e.g. `ssh_http`) which will open the server on ports 22 and 80. \n",
    "  * Click **Select an existing security group** and select the `ssh_http` security group we created earlier.\n",
    " * **Review and Launch --> Launch**\n",
    "\n",
    "Finally, you must \"Select an existing key pair or create a new key pair.\" Select **Choose an existing key pair** and select the key pair you imported earlier. \n",
    "![](images/aws_select_keypair.png)"
   ]
  },
  {
   "cell_type": "markdown",
   "metadata": {},
   "source": [
    "# You have just created your very own server on AWS!\n",
    "Your server is hosted on AWS and configured for SSH and HTTP connections. Next, you will want to build a Jupyter server so you can play around with programming in Python. Please go to pt2 (the next notebook) to continue."
   ]
  }
 ],
 "metadata": {
  "kernelspec": {
   "display_name": "Python 3",
   "language": "python",
   "name": "python3"
  },
  "language_info": {
   "codemirror_mode": {
    "name": "ipython",
    "version": 3
   },
   "file_extension": ".py",
   "mimetype": "text/x-python",
   "name": "python",
   "nbconvert_exporter": "python",
   "pygments_lexer": "ipython3",
   "version": "3.7.3"
  }
 },
 "nbformat": 4,
 "nbformat_minor": 2
}
